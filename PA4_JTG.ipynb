{
 "cells": [
  {
   "cell_type": "markdown",
   "id": "5b5a0070",
   "metadata": {},
   "source": [
    "# Programming Assignment 4, Working with If Statments\n",
    "## Jeremy Giffen\n",
    "## CS-150"
   ]
  },
  {
   "cell_type": "markdown",
   "id": "49c730e0",
   "metadata": {},
   "source": [
    "### Task 1: Grade Calculator"
   ]
  },
  {
   "cell_type": "code",
   "execution_count": 4,
   "id": "5b3d7e7f",
   "metadata": {},
   "outputs": [
    {
     "name": "stdout",
     "output_type": "stream",
     "text": [
      "Grades: [98, 47, 79, 80, 90]\n",
      "Average Grade: 78.8\n",
      "Letter Grade: C\n"
     ]
    }
   ],
   "source": [
    "grades=[98,47,79,80,90]\n",
    "ave_grade=sum(grades)/len(grades)\n",
    "if 90 <= ave_grade <= 100:\n",
    "    letter_grade = \"A\"\n",
    "elif 80 <= ave_grade < 90:\n",
    "    letter_grade = \"B\"\n",
    "elif 70 <= ave_grade < 80:\n",
    "    letter_grade = \"C\"\n",
    "elif 60 <= ave_grade < 70:\n",
    "    letter_grade = \"D\"\n",
    "else:\n",
    "    letter_grade = \"F\"\n",
    "print(\"Grades:\", grades)\n",
    "print(\"Average Grade:\", ave_grade)\n",
    "print(\"Letter Grade:\", letter_grade)"
   ]
  },
  {
   "cell_type": "markdown",
   "id": "27593295",
   "metadata": {},
   "source": [
    "### Task 2: Tuple Unpacking"
   ]
  },
  {
   "cell_type": "code",
   "execution_count": 7,
   "id": "dbd5df1c",
   "metadata": {},
   "outputs": [
    {
     "name": "stdout",
     "output_type": "stream",
     "text": [
      "Jeremy Giffen is over 18.\n"
     ]
    }
   ],
   "source": [
    "student=(\"Jeremy\",\"Giffen\",20,\"Math\")\n",
    "first_name, last_name, age, subject = student\n",
    "if age > 18:\n",
    "    print(f\"{first_name} {last_name} is over 18.\")\n",
    "else:\n",
    "    print(f\"{first_name} {last_name} is under 18.\")"
   ]
  },
  {
   "cell_type": "markdown",
   "id": "cbe6523c",
   "metadata": {},
   "source": [
    "### Task 3: Month and date"
   ]
  },
  {
   "cell_type": "code",
   "execution_count": 9,
   "id": "d20fa86a",
   "metadata": {},
   "outputs": [
    {
     "name": "stdout",
     "output_type": "stream",
     "text": [
      "Enter a number from 1 to 12: 5\n",
      "The month is May, and it has 31 days.\n"
     ]
    }
   ],
   "source": [
    "month_number=int(input(\"Enter a number from 1 to 12: \"))\n",
    "month_names=[\n",
    "    \"January\", \"February\", \"March\", \"April\", \"May\", \"June\",\n",
    "    \"July\", \"August\", \"September\", \"October\", \"November\", \"December\"\n",
    "]\n",
    "if 1<=month_number<=12:\n",
    "    month_name=month_names[month_number-1]\n",
    "    days_in_month=[31,28,31,30,31,30,31,31,30,31,30,31]\n",
    "    num_days=days_in_month[month_number-1]\n",
    "    print(f\"The month is {month_name}, and it has {num_days} days.\")\n",
    "else:\n",
    "    print(\"Invalid input. Please enter a number from 1 to 12.\")"
   ]
  },
  {
   "cell_type": "markdown",
   "id": "4e3fd390",
   "metadata": {},
   "source": [
    "### Task 4: Triangle"
   ]
  },
  {
   "cell_type": "code",
   "execution_count": 11,
   "id": "3e18ac1c",
   "metadata": {},
   "outputs": [
    {
     "name": "stdout",
     "output_type": "stream",
     "text": [
      "Enter the length of the first side: 5\n",
      "Enter the length of the second side: 6\n",
      "Enter the length of the third side: 2\n",
      "scalene triangle.\n"
     ]
    }
   ],
   "source": [
    "side1=int(input(\"Enter the length of the first side: \"))\n",
    "side2=int(input(\"Enter the length of the second side: \"))\n",
    "side3=int(input(\"Enter the length of the third side: \"))\n",
    "if side1+side2>side3 and side1+side3>side2 and side2+side3>side1:\n",
    "    if side1==side2==side3:\n",
    "        print(\"equilateral triangle.\")\n",
    "    elif side1==side2 or side1==side3 or side2==side3:\n",
    "        print(\"isosceles triangle.\")\n",
    "    else:\n",
    "        print(\"scalene triangle.\")\n",
    "else:\n",
    "    print(\"No triangle.\")"
   ]
  },
  {
   "cell_type": "markdown",
   "id": "7567d9bd",
   "metadata": {},
   "source": [
    "### Task 5: List Comprehension and Filtering"
   ]
  },
  {
   "cell_type": "code",
   "execution_count": 13,
   "id": "7d7fe5c6",
   "metadata": {},
   "outputs": [
    {
     "name": "stdout",
     "output_type": "stream",
     "text": [
      "Even squares: [484, 576, 676, 784, 900, 1024, 1156, 1296, 1444, 1600]\n",
      "Odd cubes: [9261, 12167, 15625, 19683, 24389, 29791, 35937, 42875, 50653, 59319]\n"
     ]
    }
   ],
   "source": [
    "numbers=list(range(21, 41))\n",
    "even_squares=[x**2 for x in numbers if x % 2 == 0]\n",
    "odd_cubes = [x**3 for x in numbers if x % 2 != 0]\n",
    "print(\"Even squares:\", even_squares)\n",
    "print(\"Odd cubes:\", odd_cubes)"
   ]
  },
  {
   "cell_type": "code",
   "execution_count": null,
   "id": "c2c97150",
   "metadata": {},
   "outputs": [],
   "source": []
  }
 ],
 "metadata": {
  "kernelspec": {
   "display_name": "Python 3 (ipykernel)",
   "language": "python",
   "name": "python3"
  },
  "language_info": {
   "codemirror_mode": {
    "name": "ipython",
    "version": 3
   },
   "file_extension": ".py",
   "mimetype": "text/x-python",
   "name": "python",
   "nbconvert_exporter": "python",
   "pygments_lexer": "ipython3",
   "version": "3.11.4"
  }
 },
 "nbformat": 4,
 "nbformat_minor": 5
}
